{
 "cells": [
  {
   "cell_type": "code",
   "execution_count": 1,
   "metadata": {},
   "outputs": [],
   "source": [
    "import numpy as np\n",
    "import scipy as sp\n",
    "import pandas as pd\n",
    "import nltk\n",
    "from nltk.corpus import stopwords\n",
    "from nltk.tokenize import RegexpTokenizer\n",
    "from nltk.tokenize import wordpunct_tokenize\n",
    "from nltk.stem.porter import *\n",
    "from sklearn.feature_extraction.text import TfidfVectorizer\n",
    "from sklearn.feature_extraction.text import CountVectorizer\n",
    "from sklearn.feature_extraction.text import TfidfTransformer\n",
    "\n",
    "import string\n",
    "from collections import defaultdict\n",
    "#nltk.download('punkt')\n",
    "%matplotlib inline"
   ]
  },
  {
   "cell_type": "code",
   "execution_count": 2,
   "metadata": {},
   "outputs": [],
   "source": [
    "def get_training_data(train_path):\n",
    "    print('Reading Training data')\n",
    "    df_train=pd.read_csv(train_path,delimiter='\\t',names=[\"Disease\", \"PatientReport\"])\n",
    "    return df_train\n",
    "\n",
    "def get_test_data(test_path):\n",
    "    print('Reading Test data')\n",
    "    df_test=pd.read_csv(test_path,delimiter='\\t',names=[\"PatientReport\"])\n",
    "    return df_test"
   ]
  },
  {
   "cell_type": "code",
   "execution_count": 3,
   "metadata": {},
   "outputs": [],
   "source": [
    "import re\n",
    "def get_clean_data(df):\n",
    "    print('removing stop words')\n",
    "    stop_words = set(stopwords.words('english'))\n",
    "    df['tokens']=df['PatientReport'].apply(wordpunct_tokenize)\n",
    "    #pattern = '[0-9]'\n",
    "    #list = [re.sub(pattern, '', i) for i in list]\n",
    "    #change these too one if statement or conditions--------------------------\n",
    "    df['stop']=df['tokens'].apply(lambda x: [item for item in x if item not in stop_words])\n",
    "    df['alphum']=df['stop'].apply(lambda word: [e for e in word if(e.isalpha())])\n",
    "    df['report']=df['alphum'].apply(lambda word:[w for w in word if len(w)>3])\n",
    "    df.drop(['tokens','PatientReport','stop','alphum'],axis=1,inplace=True)\n",
    "    return df\n",
    "\n",
    "def stem_data(df):\n",
    "    print('Stemming words')\n",
    "    stemmer = PorterStemmer()\n",
    "    df['stemmed']=df['report'].apply(lambda word:[stemmer.stem(w) for w in word])\n",
    "    df.drop(['report'],axis=1,inplace=True)\n",
    "    return df\n",
    "\n",
    "def get_vectors(df,train=True):\n",
    "    print('get vectors')\n",
    "    #data = np.array(['i am a test sentence','being tested in idf vectorizer']) \n",
    "    #series=pd.Series(data)\n",
    "    df['raw']=df[\"stemmed\"].str.join(\" \")\n",
    "    cv=CountVectorizer()\n",
    "    word_count_vector=cv.fit_transform(df['raw'])\n",
    "    \n",
    "    tfidf_transformer=TfidfTransformer(smooth_idf=True,use_idf=True)\n",
    "    tfidf_transformer.fit(word_count_vector)\n",
    "    \n",
    "    count_vector=cv.transform(df['raw'])\n",
    "    mat=tfidf_transformer.transform(count_vector)\n",
    "    return mat\n",
    "\n",
    "def csr_l2normalize(mat, copy=True, **kargs):\n",
    "    r\"\"\" Normalize the rows of a CSR matrix by their L-2 norm. \n",
    "    If copy is True, returns a copy of the normalized matrix.\n",
    "    \"\"\"\n",
    "    if copy is True:\n",
    "        mat = mat.copy()\n",
    "    nrows = mat.shape[0]\n",
    "    nnz = mat.nnz\n",
    "    ind, val, ptr = mat.indices, mat.data, mat.indptr\n",
    "    # normalize\n",
    "    for i in range(nrows):\n",
    "        rsum = 0.0    \n",
    "        for j in range(ptr[i], ptr[i+1]):\n",
    "            rsum += val[j]**2\n",
    "        if rsum == 0.0:\n",
    "            continue  # do not normalize empty rows\n",
    "        rsum = 1.0/np.sqrt(rsum)\n",
    "        for j in range(ptr[i], ptr[i+1]):\n",
    "            val[j] *= rsum\n",
    "            \n",
    "    if copy is True:\n",
    "        return mat"
   ]
  },
  {
   "cell_type": "code",
   "execution_count": 10,
   "metadata": {},
   "outputs": [],
   "source": [
    "from scipy.sparse.linalg import norm\n",
    "from collections import Counter\n",
    "from sklearn.metrics.pairwise import cosine_similarity\n",
    "\n",
    "class Custom_KNN_Classifier:\n",
    "   \n",
    "    def fit(self,train_mat,labels,k):\n",
    "        self.train_mat=train_mat\n",
    "        self.labels=labels.tolist()\n",
    "        self.k=k\n",
    "        \n",
    "    def get_pairwise_cosine_similarity(self,test_mat):\n",
    "        return self.train_mat.dot(test_mat.T)\n",
    "    \n",
    "    def transform(self,X_test):\n",
    "        '''\n",
    "        For each sample in test,\n",
    "        1. Get similarities\n",
    "        2. Sort the similarities(Desc)\n",
    "        3. Choose top K vectors,labels\n",
    "        4. vote for final labels\n",
    "        '''\n",
    "        \n",
    "        # Calculating similarity between train set and Test set.\n",
    "        pairwise_sim_matrix=self.get_pairwise_cosine_similarity(X_test)\n",
    "        \n",
    "        sim_df=pd.DataFrame(pairwise_sim_matrix.todense())\n",
    "        sim_df['labels']=self.labels\n",
    "        \n",
    "        predictions=[]\n",
    "        for d in range(X_test.shape[0]):\n",
    "            new_df=sim_df[[d,'labels']].sort_values(by=[d],ascending=False).head(self.k)\n",
    "            candidate_labels=new_df['labels']\n",
    "            predictions.append(self.vote_for_labels(candidate_labels))\n",
    "        return predictions\n",
    "    \n",
    "    def vote_for_labels(self,candidate_labels):\n",
    "        \n",
    "        class_counter = Counter()\n",
    "        for label in candidate_labels:\n",
    "            class_counter[label] += 1\n",
    "        return class_counter.most_common(1)[0][0]"
   ]
  },
  {
   "cell_type": "code",
   "execution_count": 5,
   "metadata": {},
   "outputs": [
    {
     "name": "stdout",
     "output_type": "stream",
     "text": [
      "Reading Training data\n",
      "removing stop words\n",
      "Stemming words\n"
     ]
    }
   ],
   "source": [
    "#-------Train Data---------------\n",
    "train_path=\"train.dat\"\n",
    "train_df=get_training_data(train_path)\n",
    "labels=train_df['Disease']\n",
    "    \n",
    "train_df=get_clean_data(train_df)    \n",
    "train_df=stem_data(train_df)\n",
    "\n",
    "train_df['raw']=train_df[\"stemmed\"].str.join(\" \")\n",
    "cv=CountVectorizer()\n",
    "word_count_vector=cv.fit_transform(train_df['raw'])\n",
    "    \n",
    "tfidf_transformer=TfidfTransformer(smooth_idf=True,use_idf=True)\n",
    "tfidf_transformer.fit(word_count_vector)\n",
    "    \n",
    "#count_vector=cv.transform(df['raw'])\n",
    "train_df_tfidf=tfidf_transformer.transform(word_count_vector)\n",
    "train_df_normalized=csr_l2normalize(train_df_tfidf)\n",
    "\n"
   ]
  },
  {
   "cell_type": "code",
   "execution_count": 11,
   "metadata": {},
   "outputs": [
    {
     "data": {
      "text/plain": [
       "0.46987047960522765"
      ]
     },
     "execution_count": 11,
     "metadata": {},
     "output_type": "execute_result"
    }
   ],
   "source": [
    "from sklearn.model_selection import train_test_split\n",
    "\n",
    "X_train, X_test, y_train, y_test=train_test_split(train_df_normalized,labels, test_size=0.2,random_state=11)  \n",
    "classifier=Custom_KNN_Classifier()\n",
    "classifier.fit(X_train,y_train,3)\n",
    "predictions=classifier.transform(X_test)\n",
    "\n",
    "from sklearn.metrics import f1_score\n",
    "f1_score(y_test,predictions,average='weighted')\n"
   ]
  },
  {
   "cell_type": "code",
   "execution_count": 12,
   "metadata": {},
   "outputs": [],
   "source": [
    "error_rate=[]\n",
    "for i in range(1,110):\n",
    "    knn=Custom_KNN_Classifier()\n",
    "    knn.fit(X_train,y_train,i)\n",
    "    pred_i=knn.transform(X_test)\n",
    "    error_rate.append(np.mean(pred_i!=y_test))\n"
   ]
  },
  {
   "cell_type": "code",
   "execution_count": 20,
   "metadata": {},
   "outputs": [
    {
     "data": {
      "text/plain": [
       "[<matplotlib.lines.Line2D at 0x1e51b64a148>]"
      ]
     },
     "execution_count": 20,
     "metadata": {},
     "output_type": "execute_result"
    },
    {
     "data": {
      "image/png": "[encoded data removed]",
      "text/plain": [
       "<Figure size 1440x432 with 1 Axes>"
      ]
     },
     "metadata": {
      "needs_background": "light"
     },
     "output_type": "display_data"
    }
   ],
   "source": [
    "import matplotlib.pyplot as plt\n",
    "%matplotlib inline\n",
    "plt.figure(figsize=[20,6])\n",
    "plt.plot(range(1,110),error_rate,marker='o')"
   ]
  },
  {
   "cell_type": "code",
   "execution_count": null,
   "metadata": {},
   "outputs": [],
   "source": [
    "#-------test data--------------\n",
    "\n",
    "classifier=Custom_KNN_Classifier()\n",
    "classifier.fit(train_df_normalized,labels,3)\n",
    "\n",
    "#test_path=\"B:\\\\Studies\\\\Datasets\\\\Program\\\\test.txt\"\n",
    "test_path=\"test.dat\"\n",
    "#output_path=\"output_path=B:\\MS_SCU\\Winter20\\DataMiningAndPatterRecognition\\Assignments\\Programs\\out.txt\"\n",
    "output_path=\"format.dat\"\n",
    "test_df=get_test_data(test_path)\n",
    "test_df=get_clean_data(test_df)    \n",
    "test_df=stem_data(test_df)\n",
    "test_df['raw']=test_df[\"stemmed\"].str.join(\" \")\n",
    "test_df_cv=cv.transform(test_df['raw'])\n",
    "test_df_tfidf=tfidf_transformer.transform(test_df_cv)\n",
    "test_df_normalized=csr_l2normalize(test_df_tfidf)\n",
    "\n",
    "predictions=classifier.transform(test_df_normalized)"
   ]
  },
  {
   "cell_type": "code",
   "execution_count": null,
   "metadata": {},
   "outputs": [],
   "source": []
  },
  {
   "cell_type": "code",
   "execution_count": null,
   "metadata": {},
   "outputs": [],
   "source": [
    "with open(output_path, 'w') as filehandle:\n",
    "    filehandle.writelines(\"%s\\n\" % label for label in predictions)"
   ]
  },
  {
   "cell_type": "code",
   "execution_count": null,
   "metadata": {},
   "outputs": [],
   "source": []
  },
  {
   "cell_type": "code",
   "execution_count": null,
   "metadata": {},
   "outputs": [],
   "source": []
  }
 ],
 "metadata": {
  "kernelspec": {
   "display_name": "Python 3",
   "language": "python",
   "name": "python3"
  },
  "language_info": {
   "codemirror_mode": {
    "name": "ipython",
    "version": 3
   },
   "file_extension": ".py",
   "mimetype": "text/x-python",
   "name": "python",
   "nbconvert_exporter": "python",
   "pygments_lexer": "ipython3",
   "version": "3.7.4"
  }
 },
 "nbformat": 4,
 "nbformat_minor": 2
}
