{
 "cells": [
  {
   "cell_type": "code",
   "execution_count": 1,
   "metadata": {},
   "outputs": [],
   "source": [
    "# @Author : Apeksha Agnihotri\n",
    "# References: \n",
    "# 1. https://www.analyticsvidhya.com/blog/2019/09/feature-engineering-images-introduction-hog-feature-descriptor/\n",
    "# 2. https://www.analyticsvidhya.com/blog/2019/09/9-powerful-tricks-for-working-image-data-skimage-python/\n",
    "from skimage.io import imread, imshow\n",
    "from skimage.transform import resize\n",
    "from skimage.feature import hog\n",
    "from skimage import exposure\n",
    "import matplotlib.pyplot as plt\n",
    "from skimage.transform import rescale\n",
    "%matplotlib inline"
   ]
  },
  {
   "cell_type": "code",
   "execution_count": null,
   "metadata": {},
   "outputs": [],
   "source": [
    "from skimage.io import imread_collection\n",
    "#image_dir=\"B:\\\\MS_SCU\\\\Winter20\\\\DataMiningAndPatterRecognition\\\\Assignments\\\\Programs\\\\Program3\\\\traffic-small\\\\*.jpg\"\n",
    "image_dir=\"B:\\\\MS_SCU\\\\Winter20\\\\DataMiningAndPatterRecognition\\\\Assignments\\\\Programs\\\\Program3\\\\traffic\\\\*.jpg\"\n",
    "#image_dir=\"/WAVE/projects/COEN-281-Wi20/data/traffic\\\\*.jpg\"\n",
    "#Load the data all at once, each image is accessed using index;\n",
    "col = imread_collection(image_dir)\n",
    "imshow(col[0])\n",
    "#col=col[:10]"
   ]
  },
  {
   "cell_type": "code",
   "execution_count": 4,
   "metadata": {},
   "outputs": [
    {
     "name": "stdout",
     "output_type": "stream",
     "text": [
      "100000\n"
     ]
    }
   ],
   "source": [
    "#Change the colors to grayscale\n",
    "from skimage.color import rgb2gray\n",
    "\n",
    "grayed_imgs=[]\n",
    "for image in col:\n",
    "    grayed_imgs.append(rgb2gray(image))\n",
    "\n",
    "print(len(col))"
   ]
  },
  {
   "cell_type": "code",
   "execution_count": null,
   "metadata": {},
   "outputs": [],
   "source": [
    "#Step 2: Rescaling- dividing every image in half.\n",
    "from skimage.transform import rescale\n",
    "\n",
    "#rescaled_imgs=[]f\n",
    "#for image in col:\n",
    "#    rescaled_imgs.append(rescale(image, scale=(0.5, 0.5)))\n",
    "\n",
    "from skimage.transform import resize\n",
    "\n",
    "resized_imgs=[]\n",
    "for image in grayed_imgs:\n",
    "    resized_imgs.append(resize(image, (128,64)))"
   ]
  },
  {
   "cell_type": "code",
   "execution_count": null,
   "metadata": {},
   "outputs": [],
   "source": [
    "#Step 3: Extracting features. Using Histogram Oriented Gradient technique\n",
    "hog_features=[]\n",
    "for image in resized_imgs:\n",
    "    hog_features.append(hog(image, orientations=9, pixels_per_cell=(8, 8), \n",
    "                    cells_per_block=(2, 2), visualize=False, multichannel=True))"
   ]
  },
  {
   "cell_type": "code",
   "execution_count": null,
   "metadata": {},
   "outputs": [],
   "source": [
    "#hog_features[0][1000]\n"
   ]
  },
  {
   "cell_type": "code",
   "execution_count": null,
   "metadata": {},
   "outputs": [],
   "source": [
    "#Step 4: generating clusters using K-mean\n",
    "from sklearn.cluster import KMeans\n",
    "clt = KMeans(n_clusters = 14)\n",
    "labels = clt.fit_predict(hog_features)\n",
    "\n",
    "#from sklearn.cluster import MiniBatchKMeans\n",
    "#kmeans = MiniBatchKMeans(16)\n",
    "#kmeans.fit(data)\n",
    "#new_colors = kmeans.cluster_centers_[kmeans.predict(data)]"
   ]
  },
  {
   "cell_type": "code",
   "execution_count": null,
   "metadata": {},
   "outputs": [],
   "source": [
    "print(labels)"
   ]
  },
  {
   "cell_type": "code",
   "execution_count": null,
   "metadata": {},
   "outputs": [],
   "source": [
    "with open('output_clusters.txt', 'w') as filehandle:\n",
    "    filehandle.writelines(\"%s\\n\" % label for label in labels)"
   ]
  },
  {
   "cell_type": "code",
   "execution_count": 9,
   "metadata": {},
   "outputs": [],
   "source": [
    "with open('B:\\\\output_cluster.txt') as f:\n",
    "    lines = [line.rstrip() for line in f]\n",
    "#res = [x + 1 for x in lines]\n",
    "for i in range(0, len(lines)): \n",
    "    lines[i] = int(lines[i])"
   ]
  },
  {
   "cell_type": "code",
   "execution_count": 11,
   "metadata": {},
   "outputs": [],
   "source": [
    "res = [x + 1 for x in lines]"
   ]
  },
  {
   "cell_type": "code",
   "execution_count": 12,
   "metadata": {},
   "outputs": [],
   "source": [
    "with open('out_image.txt', 'w') as filehandle:\n",
    "    filehandle.writelines(\"%s\\n\" % res for res in res)"
   ]
  },
  {
   "cell_type": "code",
   "execution_count": null,
   "metadata": {},
   "outputs": [],
   "source": []
  }
 ],
 "metadata": {
  "kernelspec": {
   "display_name": "Python 3",
   "language": "python",
   "name": "python3"
  },
  "language_info": {
   "codemirror_mode": {
    "name": "ipython",
    "version": 3
   },
   "file_extension": ".py",
   "mimetype": "text/x-python",
   "name": "python",
   "nbconvert_exporter": "python",
   "pygments_lexer": "ipython3",
   "version": "3.8.5"
  }
 },
 "nbformat": 4,
 "nbformat_minor": 2
}
